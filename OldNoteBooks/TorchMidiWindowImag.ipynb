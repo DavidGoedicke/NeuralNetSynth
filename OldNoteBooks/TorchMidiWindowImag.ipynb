{
 "cells": [
  {
   "cell_type": "code",
   "execution_count": 1,
   "metadata": {
    "scrolled": true
   },
   "outputs": [],
   "source": [
    "import math\n",
    "import numpy as np\n",
    "\n",
    "import mido\n",
    "import librosa\n",
    "import librosa.display\n",
    "\n",
    "import IPython.display as ipd\n",
    "import matplotlib.pyplot as plt\n",
    "from torch import optim\n",
    "\n",
    "import torch.nn.functional as F\n",
    "from torch import nn\n",
    "import torch\n",
    "\n",
    "windowSize=50"
   ]
  },
  {
   "cell_type": "code",
   "execution_count": 2,
   "metadata": {
    "scrolled": true
   },
   "outputs": [],
   "source": [
    "y, sr = librosa.load('4Beats2MelLong4.wav')"
   ]
  },
  {
   "cell_type": "code",
   "execution_count": 3,
   "metadata": {
    "scrolled": true
   },
   "outputs": [],
   "source": [
    "D = librosa.stft(y)"
   ]
  },
  {
   "cell_type": "code",
   "execution_count": null,
   "metadata": {
    "scrolled": true
   },
   "outputs": [],
   "source": []
  },
  {
   "cell_type": "code",
   "execution_count": null,
   "metadata": {
    "scrolled": true
   },
   "outputs": [],
   "source": [
    "librosa.display.waveplot(y, sr=sr);"
   ]
  },
  {
   "cell_type": "code",
   "execution_count": 4,
   "metadata": {
    "scrolled": true
   },
   "outputs": [],
   "source": [
    "midiArray=[]\n",
    "HopSize=0.023\n",
    "timeTracker=0.0\n",
    "totalTimeTracker=0.0\n",
    "MemoryArray=np.zeros(128)\n",
    "lasttime=0;\n",
    "bpm=60\n",
    "for msg in mido.MidiFile('4Beats2MelLong4.mid'):\n",
    "    if not msg.is_meta:\n",
    "        totalTimeTracker+=msg.time\n",
    "        nextEventTime=lasttime+msg.time\n",
    "        while nextEventTime> timeTracker + HopSize:\n",
    "            MemoryArray[127]=((timeTracker%4) * (bpm/60.0))/4.0\n",
    "            midiArray.append(MemoryArray.copy())\n",
    "            timeTracker += HopSize;\n",
    "        if msg.type=='note_on':\n",
    "            MemoryArray[msg.note]+=1.0;\n",
    "        elif msg.type=='note_off':\n",
    "            MemoryArray[msg.note]-=1.0;\n",
    "        if(timeTracker+msg.time >= timeTracker + HopSize):\n",
    "            MemoryArray[127]=((timeTracker%4) * (bpm/60.0))/4.0\n",
    "            midiArray.append(MemoryArray.copy())\n",
    "            timeTracker += HopSize\n",
    "        lasttime += msg.time\n",
    "    else:\n",
    "        if(msg.type == 'set_tempo'):\n",
    "            bpm=60000000/msg.tempo\n",
    "        "
   ]
  },
  {
   "cell_type": "code",
   "execution_count": 5,
   "metadata": {
    "scrolled": true
   },
   "outputs": [
    {
     "data": {
      "image/png": "[encoded data removed]",
      "text/plain": [
       "<Figure size 432x288 with 1 Axes>"
      ]
     },
     "metadata": {
      "needs_background": "light"
     },
     "output_type": "display_data"
    }
   ],
   "source": [
    "midiArray=np.float32(np.array(midiArray))\n",
    "\n",
    "\n",
    "plt.plot(midiArray[:,127])\n",
    "plt.show()"
   ]
  },
  {
   "cell_type": "code",
   "execution_count": null,
   "metadata": {},
   "outputs": [],
   "source": []
  },
  {
   "cell_type": "code",
   "execution_count": 6,
   "metadata": {},
   "outputs": [],
   "source": [
    "D_t=np.array(D.T)\n",
    "minLength = min(midiArray.shape[0],D_t.real.shape[0])\n",
    "#D_data=D_t[:minLength].real;\n",
    "\n",
    "midiArray=midiArray[:minLength];\n"
   ]
  },
  {
   "cell_type": "code",
   "execution_count": 7,
   "metadata": {},
   "outputs": [],
   "source": [
    "D_data=[]\n",
    "for elem in D_t[:minLength]:\n",
    "    temp=np.append(np.float32(elem.real),np.float32(elem.imag))\n",
    "    D_data.append(temp)\n",
    "D_data=np.array(D_data)"
   ]
  },
  {
   "cell_type": "code",
   "execution_count": 8,
   "metadata": {},
   "outputs": [
    {
     "name": "stdout",
     "output_type": "stream",
     "text": [
      "(70629, 1025) (70629, 128)\n",
      "(70629, 128) (70629, 2050)\n",
      "float32 float32\n"
     ]
    }
   ],
   "source": [
    "print(D_t.shape,midiArray.shape)\n",
    "print(midiArray.shape,D_data.shape)\n",
    "print(midiArray.dtype,D_data.dtype)"
   ]
  },
  {
   "cell_type": "code",
   "execution_count": 9,
   "metadata": {},
   "outputs": [],
   "source": [
    "\n",
    "outPutMidiArray=[]\n",
    "for i in range(midiArray.shape[0]):\n",
    "    temp=[]\n",
    "    for j in range(windowSize):\n",
    "        val = int(j-(windowSize)) #int(j-(np.floor(windowSize/2))) #int(j-(windowSize)) \n",
    "        val = i+val\n",
    "        if(val<0 or val+1>midiArray.shape[0]):\n",
    "             temp.append(np.zeros(midiArray.shape[1]))\n",
    "        else:\n",
    "            temp.append(midiArray[val])\n",
    "    outPutMidiArray.append(temp)\n",
    "outPutMidiArray=np.array(outPutMidiArray)"
   ]
  },
  {
   "cell_type": "code",
   "execution_count": 10,
   "metadata": {},
   "outputs": [
    {
     "data": {
      "text/plain": [
       "<matplotlib.image.AxesImage at 0x7f8a2bc49400>"
      ]
     },
     "execution_count": 10,
     "metadata": {},
     "output_type": "execute_result"
    },
    {
     "data": {
      "image/png": "[encoded data removed]",
      "text/plain": [
       "<Figure size 432x288 with 1 Axes>"
      ]
     },
     "metadata": {
      "needs_background": "light"
     },
     "output_type": "display_data"
    }
   ],
   "source": [
    "plt.imshow(outPutMidiArray[1].T)"
   ]
  },
  {
   "cell_type": "code",
   "execution_count": 83,
   "metadata": {
    "scrolled": true
   },
   "outputs": [
    {
     "data": {
      "text/plain": [
       "Network(\n",
       "  (fc1): Linear(in_features=8450, out_features=3200, bias=True)\n",
       "  (fc4): Linear(in_features=3200, out_features=2050, bias=True)\n",
       ")"
      ]
     },
     "execution_count": 83,
     "metadata": {},
     "output_type": "execute_result"
    }
   ],
   "source": [
    "## Solution\n",
    "\n",
    "class Network(nn.Module):\n",
    "    def __init__(self):\n",
    "        super().__init__()\n",
    "        # Defining the layers, 128, 64, 10 units each\n",
    "        self.fc1 = nn.Linear(128*windowSize+2050, int(128*windowSize/2))\n",
    "        #self.fc2 = nn.Linear(int(128*windowSize/2), int(128*windowSize/2))\n",
    "        #self.fc3 = nn.Linear(int(128*windowSize/2), 3000)\n",
    "        self.fc4 = nn.Linear(int(128*windowSize/2), 2050)\n",
    "        self.first=True\n",
    "        self.LastOutput = torch.zeros(2050)\n",
    "    def forward(self, x):\n",
    "        ''' Forward pass through the network, returns the output logits '''\n",
    "        if(self.first):\n",
    "            self.first=False\n",
    "            print(str(x.shape)+\"FirstRunInitWithZeros \"+ str(self.LastOutput.shape))\n",
    "            \n",
    "        x = torch.cat((x,self.LastOutput),0)\n",
    "        x = self.fc1(x)\n",
    "        x = F.relu(x)\n",
    "        #x = self.fc2(x)\n",
    "        #x = F.relu(x)\n",
    "        #x = self.fc3(x)\n",
    "        #x = F.relu(x)\n",
    "        x = self.fc4(x)\n",
    "        x = F.relu(x)\n",
    "        self.LastOutput = x\n",
    "        print(self.LastOutput)\n",
    "        return x\n",
    "\n",
    "model = Network()\n",
    "model"
   ]
  },
  {
   "cell_type": "code",
   "execution_count": 61,
   "metadata": {
    "scrolled": true
   },
   "outputs": [
    {
     "name": "stdout",
     "output_type": "stream",
     "text": [
      "torch.Size([70629, 6400]) torch.Size([70629, 2050])\n",
      "442 28\n"
     ]
    }
   ],
   "source": [
    "import torch.utils.data as utils\n",
    "\n",
    "\n",
    "tensor_x = torch.stack([torch.Tensor(i) for i in np.abs(outPutMidiArray)]) # transform to torch tensors\n",
    "tensor_y = torch.stack([torch.Tensor(i) for i in np.abs(D_data)])\n",
    "tensor_x = tensor_x.view(tensor_x.shape[0],-1)\n",
    "print(tensor_x.shape,tensor_y.shape)\n",
    "my_dataset = utils.TensorDataset(tensor_x,tensor_y) # create your datset\n",
    "\n",
    "train_size = int(0.8 * len(my_dataset))\n",
    "test_size = len(my_dataset) - train_size\n",
    "train_dataset, test_dataset = torch.utils.data.random_split(my_dataset, [train_size, test_size])\n",
    "\n",
    "my_dataloader = utils.DataLoader(train_dataset,batch_size=128,shuffle=False) # create your dataloader\n",
    "my_validationloader = utils.DataLoader(test_dataset,batch_size=512,shuffle=False) # create your dataloader\n",
    "\n",
    "print(len(my_dataloader),len(my_validationloader))\n",
    "\n",
    "my_testloader = utils.DataLoader(my_dataset) # create your dataloader\n",
    "\n",
    "\n",
    "# Optimizers require the parameters to optimize and a learning rate\n",
    "optimizer = optim.SGD(model.parameters(), lr=0.01)\n",
    "\n",
    "criterion = nn.MSELoss()\n",
    "# or criterion = nn.MSELoss()\n",
    "# Get our data\n"
   ]
  },
  {
   "cell_type": "code",
   "execution_count": 62,
   "metadata": {},
   "outputs": [
    {
     "data": {
      "image/png": "[encoded data removed]",
      "text/plain": [
       "<Figure size 432x288 with 1 Axes>"
      ]
     },
     "metadata": {
      "needs_background": "light"
     },
     "output_type": "display_data"
    }
   ],
   "source": [
    "plt.plot(tensor_x.numpy()[:,127])\n",
    "plt.show()"
   ]
  },
  {
   "cell_type": "code",
   "execution_count": 84,
   "metadata": {},
   "outputs": [
    {
     "data": {
      "text/plain": [
       "Network(\n",
       "  (fc1): Linear(in_features=8450, out_features=3200, bias=True)\n",
       "  (fc4): Linear(in_features=3200, out_features=2050, bias=True)\n",
       ")"
      ]
     },
     "execution_count": 84,
     "metadata": {},
     "output_type": "execute_result"
    }
   ],
   "source": [
    "##Reset\n",
    "device = torch.device(\"cuda:0\" if torch.cuda.is_available() else \"cpu\")\n",
    "device = 'cpu'\n",
    "Counter=0;\n",
    "LossOverEpoch=[]\n",
    "EvalLoss=[]\n",
    "model.train()\n",
    "model.to(device)"
   ]
  },
  {
   "cell_type": "code",
   "execution_count": 85,
   "metadata": {
    "scrolled": true
   },
   "outputs": [
    {
     "name": "stdout",
     "output_type": "stream",
     "text": [
      "torch.Size([128, 6400])FirstRunInitWithZeros torch.Size([2050])\n"
     ]
    },
    {
     "ename": "RuntimeError",
     "evalue": "invalid argument 0: Tensors must have same number of dimensions: got 2 and 1 at /pytorch/aten/src/TH/generic/THTensorMoreMath.cpp:1298",
     "output_type": "error",
     "traceback": [
      "\u001b[0;31m---------------------------------------------------------------------------\u001b[0m",
      "\u001b[0;31mRuntimeError\u001b[0m                              Traceback (most recent call last)",
      "\u001b[0;32m<ipython-input-85-70c8ee76e6bc>\u001b[0m in \u001b[0;36m<module>\u001b[0;34m\u001b[0m\n\u001b[1;32m      6\u001b[0m         \u001b[0mdata\u001b[0m\u001b[0;34m,\u001b[0m \u001b[0mlabels\u001b[0m \u001b[0;34m=\u001b[0m \u001b[0mdata\u001b[0m\u001b[0;34m.\u001b[0m\u001b[0mto\u001b[0m\u001b[0;34m(\u001b[0m\u001b[0mdevice\u001b[0m\u001b[0;34m)\u001b[0m\u001b[0;34m,\u001b[0m \u001b[0mlabels\u001b[0m\u001b[0;34m.\u001b[0m\u001b[0mto\u001b[0m\u001b[0;34m(\u001b[0m\u001b[0mdevice\u001b[0m\u001b[0;34m)\u001b[0m\u001b[0;34m\u001b[0m\u001b[0;34m\u001b[0m\u001b[0m\n\u001b[1;32m      7\u001b[0m         \u001b[0moptimizer\u001b[0m\u001b[0;34m.\u001b[0m\u001b[0mzero_grad\u001b[0m\u001b[0;34m(\u001b[0m\u001b[0;34m)\u001b[0m\u001b[0;34m\u001b[0m\u001b[0;34m\u001b[0m\u001b[0m\n\u001b[0;32m----> 8\u001b[0;31m         \u001b[0mlogits\u001b[0m \u001b[0;34m=\u001b[0m \u001b[0mmodel\u001b[0m\u001b[0;34m(\u001b[0m\u001b[0mdata\u001b[0m\u001b[0;34m)\u001b[0m\u001b[0;34m\u001b[0m\u001b[0;34m\u001b[0m\u001b[0m\n\u001b[0m\u001b[1;32m      9\u001b[0m         \u001b[0mloss\u001b[0m \u001b[0;34m=\u001b[0m\u001b[0mcriterion\u001b[0m\u001b[0;34m(\u001b[0m\u001b[0mlogits\u001b[0m\u001b[0;34m,\u001b[0m\u001b[0mlabels\u001b[0m\u001b[0;34m)\u001b[0m\u001b[0;34m\u001b[0m\u001b[0;34m\u001b[0m\u001b[0m\n\u001b[1;32m     10\u001b[0m         \u001b[0mloss\u001b[0m\u001b[0;34m.\u001b[0m\u001b[0mbackward\u001b[0m\u001b[0;34m(\u001b[0m\u001b[0;34m)\u001b[0m\u001b[0;34m\u001b[0m\u001b[0;34m\u001b[0m\u001b[0m\n",
      "\u001b[0;32m~/.local/lib/python3.6/site-packages/torch/nn/modules/module.py\u001b[0m in \u001b[0;36m__call__\u001b[0;34m(self, *input, **kwargs)\u001b[0m\n\u001b[1;32m    487\u001b[0m             \u001b[0mresult\u001b[0m \u001b[0;34m=\u001b[0m \u001b[0mself\u001b[0m\u001b[0;34m.\u001b[0m\u001b[0m_slow_forward\u001b[0m\u001b[0;34m(\u001b[0m\u001b[0;34m*\u001b[0m\u001b[0minput\u001b[0m\u001b[0;34m,\u001b[0m \u001b[0;34m**\u001b[0m\u001b[0mkwargs\u001b[0m\u001b[0;34m)\u001b[0m\u001b[0;34m\u001b[0m\u001b[0;34m\u001b[0m\u001b[0m\n\u001b[1;32m    488\u001b[0m         \u001b[0;32melse\u001b[0m\u001b[0;34m:\u001b[0m\u001b[0;34m\u001b[0m\u001b[0;34m\u001b[0m\u001b[0m\n\u001b[0;32m--> 489\u001b[0;31m             \u001b[0mresult\u001b[0m \u001b[0;34m=\u001b[0m \u001b[0mself\u001b[0m\u001b[0;34m.\u001b[0m\u001b[0mforward\u001b[0m\u001b[0;34m(\u001b[0m\u001b[0;34m*\u001b[0m\u001b[0minput\u001b[0m\u001b[0;34m,\u001b[0m \u001b[0;34m**\u001b[0m\u001b[0mkwargs\u001b[0m\u001b[0;34m)\u001b[0m\u001b[0;34m\u001b[0m\u001b[0;34m\u001b[0m\u001b[0m\n\u001b[0m\u001b[1;32m    490\u001b[0m         \u001b[0;32mfor\u001b[0m \u001b[0mhook\u001b[0m \u001b[0;32min\u001b[0m \u001b[0mself\u001b[0m\u001b[0;34m.\u001b[0m\u001b[0m_forward_hooks\u001b[0m\u001b[0;34m.\u001b[0m\u001b[0mvalues\u001b[0m\u001b[0;34m(\u001b[0m\u001b[0;34m)\u001b[0m\u001b[0;34m:\u001b[0m\u001b[0;34m\u001b[0m\u001b[0;34m\u001b[0m\u001b[0m\n\u001b[1;32m    491\u001b[0m             \u001b[0mhook_result\u001b[0m \u001b[0;34m=\u001b[0m \u001b[0mhook\u001b[0m\u001b[0;34m(\u001b[0m\u001b[0mself\u001b[0m\u001b[0;34m,\u001b[0m \u001b[0minput\u001b[0m\u001b[0;34m,\u001b[0m \u001b[0mresult\u001b[0m\u001b[0;34m)\u001b[0m\u001b[0;34m\u001b[0m\u001b[0;34m\u001b[0m\u001b[0m\n",
      "\u001b[0;32m<ipython-input-83-bbfe44191ed9>\u001b[0m in \u001b[0;36mforward\u001b[0;34m(self, x)\u001b[0m\n\u001b[1;32m     17\u001b[0m             \u001b[0mprint\u001b[0m\u001b[0;34m(\u001b[0m\u001b[0mstr\u001b[0m\u001b[0;34m(\u001b[0m\u001b[0mx\u001b[0m\u001b[0;34m.\u001b[0m\u001b[0mshape\u001b[0m\u001b[0;34m)\u001b[0m\u001b[0;34m+\u001b[0m\u001b[0;34m\"FirstRunInitWithZeros \"\u001b[0m\u001b[0;34m+\u001b[0m \u001b[0mstr\u001b[0m\u001b[0;34m(\u001b[0m\u001b[0mself\u001b[0m\u001b[0;34m.\u001b[0m\u001b[0mLastOutput\u001b[0m\u001b[0;34m.\u001b[0m\u001b[0mshape\u001b[0m\u001b[0;34m)\u001b[0m\u001b[0;34m)\u001b[0m\u001b[0;34m\u001b[0m\u001b[0;34m\u001b[0m\u001b[0m\n\u001b[1;32m     18\u001b[0m \u001b[0;34m\u001b[0m\u001b[0m\n\u001b[0;32m---> 19\u001b[0;31m         \u001b[0mx\u001b[0m \u001b[0;34m=\u001b[0m \u001b[0mtorch\u001b[0m\u001b[0;34m.\u001b[0m\u001b[0mcat\u001b[0m\u001b[0;34m(\u001b[0m\u001b[0;34m(\u001b[0m\u001b[0mx\u001b[0m\u001b[0;34m,\u001b[0m\u001b[0mself\u001b[0m\u001b[0;34m.\u001b[0m\u001b[0mLastOutput\u001b[0m\u001b[0;34m)\u001b[0m\u001b[0;34m,\u001b[0m\u001b[0;36m0\u001b[0m\u001b[0;34m)\u001b[0m\u001b[0;34m\u001b[0m\u001b[0;34m\u001b[0m\u001b[0m\n\u001b[0m\u001b[1;32m     20\u001b[0m         \u001b[0mx\u001b[0m \u001b[0;34m=\u001b[0m \u001b[0mself\u001b[0m\u001b[0;34m.\u001b[0m\u001b[0mfc1\u001b[0m\u001b[0;34m(\u001b[0m\u001b[0mx\u001b[0m\u001b[0;34m)\u001b[0m\u001b[0;34m\u001b[0m\u001b[0;34m\u001b[0m\u001b[0m\n\u001b[1;32m     21\u001b[0m         \u001b[0mx\u001b[0m \u001b[0;34m=\u001b[0m \u001b[0mF\u001b[0m\u001b[0;34m.\u001b[0m\u001b[0mrelu\u001b[0m\u001b[0;34m(\u001b[0m\u001b[0mx\u001b[0m\u001b[0;34m)\u001b[0m\u001b[0;34m\u001b[0m\u001b[0;34m\u001b[0m\u001b[0m\n",
      "\u001b[0;31mRuntimeError\u001b[0m: invalid argument 0: Tensors must have same number of dimensions: got 2 and 1 at /pytorch/aten/src/TH/generic/THTensorMoreMath.cpp:1298"
     ]
    }
   ],
   "source": [
    "epochs = 1000\n",
    "for i in range(epochs):\n",
    "    running_loss = 0\n",
    "    model.train()\n",
    "    for data, labels in my_dataloader:\n",
    "        data, labels = data.to(device), labels.to(device)\n",
    "        optimizer.zero_grad()     \n",
    "        logits = model(data)\n",
    "        loss =criterion(logits,labels)\n",
    "        loss.backward()\n",
    "        optimizer.step()\n",
    "        running_loss += loss.item()\n",
    "    model.eval();\n",
    "    evalLossNum=0\n",
    "    for data, labels in my_validationloader:\n",
    "        data, labels = data.to(device), labels.to(device)\n",
    "        pred= model(data)\n",
    "        loss = criterion(pred,labels)\n",
    "        evalLossNum += loss.item()\n",
    "    LossOverEpoch.append(running_loss)\n",
    "    EvalLoss.append(evalLossNum)\n",
    "    print(str(f\"Training loss: {running_loss/len(my_dataloader)}\" +\"   \"+ str(Counter))+\"  \"+str(evalLossNum/len(my_validationloader)))\n",
    "    Counter+=1"
   ]
  },
  {
   "cell_type": "code",
   "execution_count": 16,
   "metadata": {
    "scrolled": true
   },
   "outputs": [
    {
     "data": {
      "image/png": "[encoded data removed]",
      "text/plain": [
       "<Figure size 432x288 with 1 Axes>"
      ]
     },
     "metadata": {
      "needs_background": "light"
     },
     "output_type": "display_data"
    }
   ],
   "source": [
    "plt.plot(LossOverEpoch)\n",
    "plt.plot(EvalLoss)\n",
    "plt.show()\n",
    "#torch.save(model.state_dict(), './w10-3270Epochs.model')"
   ]
  },
  {
   "cell_type": "code",
   "execution_count": null,
   "metadata": {
    "scrolled": true
   },
   "outputs": [],
   "source": [
    "model.eval()\n",
    "outputArray=[]\n",
    "for data, labels in my_testloader:\n",
    "    with torch.no_grad():\n",
    "        data, labels = data.to(device), labels.to(device)\n",
    "        output = model.forward(data)\n",
    "        outputArray.append(output[0].cpu().numpy())\n",
    "outputArray=np.array(outputArray)"
   ]
  },
  {
   "cell_type": "code",
   "execution_count": null,
   "metadata": {},
   "outputs": [],
   "source": [
    "plt.imshow(outputArray.T)\n",
    "plt.tight_layout()"
   ]
  },
  {
   "cell_type": "code",
   "execution_count": null,
   "metadata": {},
   "outputs": [],
   "source": [
    "transformedArray=[]\n",
    "for elem in outputArray:\n",
    "    a=np.array(1025 *[1+1j])\n",
    "    a.real=elem[:1025]\n",
    "    a.imag=elem[1025:]\n",
    "    transformedArray.append(a)\n",
    "transformedArray=np.array(transformedArray).T"
   ]
  },
  {
   "cell_type": "code",
   "execution_count": null,
   "metadata": {
    "scrolled": true
   },
   "outputs": [],
   "source": [
    "print((transformedArray).shape)\n",
    "Y_infered = librosa.istft(transformedArray) "
   ]
  },
  {
   "cell_type": "code",
   "execution_count": null,
   "metadata": {
    "scrolled": true
   },
   "outputs": [],
   "source": [
    "ipd.Audio(Y_infered,rate=sr)"
   ]
  },
  {
   "cell_type": "code",
   "execution_count": null,
   "metadata": {},
   "outputs": [],
   "source": [
    "ipd.Audio(y,rate=sr)"
   ]
  },
  {
   "cell_type": "code",
   "execution_count": null,
   "metadata": {
    "scrolled": false
   },
   "outputs": [],
   "source": [
    "\n",
    "plt.figure(figsize=(20,10))\n",
    "plt.subplot(1,3,1)\n",
    "librosa.display.specshow(librosa.amplitude_to_db(transformedArray.real,\n",
    "                                                  ref=np.max),\n",
    "                          y_axis='log', x_axis='time')\n",
    "plt.title('Power spectrogram')\n",
    "plt.colorbar(format='%+2.0f dB')\n",
    "plt.tight_layout()\n",
    "\n",
    "plt.subplot(1,3,2)\n",
    "librosa.display.specshow(librosa.amplitude_to_db(D.real,\n",
    "                                                  ref=np.max),\n",
    "                          y_axis='log', x_axis='time')\n",
    "plt.title('Power spectrogram')\n",
    "plt.colorbar(format='%+2.0f dB')\n",
    "plt.tight_layout()\n",
    "\n",
    "\n",
    "plt.subplot(1,3,3)\n",
    "librosa.display.specshow(librosa.amplitude_to_db(tensor_y.numpy()[:,:1025].T,\n",
    "                                                  ref=np.max),\n",
    "                          y_axis='log', x_axis='time')\n",
    "plt.title('Power spectrogram')\n",
    "plt.colorbar(format='%+2.0f dB')\n",
    "plt.tight_layout()\n"
   ]
  },
  {
   "cell_type": "code",
   "execution_count": null,
   "metadata": {
    "scrolled": true
   },
   "outputs": [],
   "source": [
    "output=np.array(0);\n",
    "with torch.no_grad():\n",
    "        test=torch.zeros([1, 128*windowSize], dtype=torch.float32)\n",
    "       # test[0][46]=0.0;\n",
    "        output = model.forward(test)\n",
    "      #  test2=torch.ones([1, 1025], dtype=torch.float32)\n",
    "      #  test2[0][46]=0.0;\n",
    "        loss = criterion(output,torch.zeros([1, 1025], dtype=torch.float32))\n",
    "        print(loss.item())\n",
    "print(output.numpy()[0].shape,D_data[250].shape)\n",
    "plt.plot(output.numpy()[0],'r')\n",
    "#plt.plot(D_data[250],'g')\n",
    "plt.show()"
   ]
  },
  {
   "cell_type": "code",
   "execution_count": null,
   "metadata": {
    "scrolled": true
   },
   "outputs": [],
   "source": [
    "plt.imshow(outPutMidiArray[60].T)\n",
    "plt.show()"
   ]
  },
  {
   "cell_type": "code",
   "execution_count": null,
   "metadata": {
    "scrolled": false
   },
   "outputs": [],
   "source": [
    "midiTestArray=[]\n",
    "HopSize=0.023\n",
    "timeTracker=0.0\n",
    "totalTimeTracker=0.0\n",
    "MemoryArray=np.zeros(128)\n",
    "lasttime=0;\n",
    "bpm=60\n",
    "for msg in mido.MidiFile('4Beats2Mel.mid'):\n",
    "    if not msg.is_meta:\n",
    "        totalTimeTracker+=msg.time\n",
    "        nextEventTime=lasttime+msg.time\n",
    "        while nextEventTime> timeTracker + HopSize:\n",
    "            MemoryArray[127]=((timeTracker%4) * (bpm/60.0))/4.0\n",
    "            midiTestArray.append(MemoryArray.copy())\n",
    "            timeTracker += HopSize;\n",
    "        if msg.type=='note_on':\n",
    "            MemoryArray[msg.note]+=1.0;\n",
    "        elif msg.type=='note_off':\n",
    "            MemoryArray[msg.note]-=1.0;\n",
    "        if(timeTracker+msg.time >= timeTracker + HopSize):\n",
    "            MemoryArray[127]=((timeTracker%4) * (bpm/60.0))/4.0\n",
    "            midiTestArray.append(MemoryArray.copy())\n",
    "            timeTracker += HopSize\n",
    "        lasttime += msg.time\n",
    "    else:\n",
    "        if(msg.type == 'set_tempo'):\n",
    "            bpm=60000000/msg.tempo\n",
    "midiTestArray = np.float32(np.array(midiTestArray))\n",
    "\n",
    "MainMidiTest=[]\n",
    "for i in range(midiTestArray.shape[0]):\n",
    "    temp=[]\n",
    "    for j in range(windowSize):\n",
    "        val = int(j-(np.floor(windowSize/2)))\n",
    "        val = i+val\n",
    "        if(val<0 or val+1>midiTestArray.shape[0]):\n",
    "             temp.append(np.zeros(midiTestArray.shape[1]))\n",
    "        else:\n",
    "            temp.append(midiTestArray[val])\n",
    "    MainMidiTest.append(temp)\n",
    "MainMidiTest=np.array(MainMidiTest)\n",
    "\n",
    "\n",
    "\n",
    "tensor_x_test = torch.stack([torch.Tensor(i) for i in np.abs(MainMidiTest)])\n",
    "tensor_x_test = tensor_x_test.view(tensor_x_test.shape[0],-1)\n",
    "\n",
    "testDataSet = utils.TensorDataset(tensor_x_test,torch.zeros(tensor_x_test.shape)) # create your datset\n",
    "TestLoader = utils.DataLoader(testDataSet) # create your dataloader\n",
    "\n",
    "\n",
    "model.eval()\n",
    "outputArray=[]\n",
    "for data, labels in TestLoader:\n",
    "    with torch.no_grad():\n",
    "        output = model.forward(data)\n",
    "        outputArray.append(output[0].numpy())\n",
    "outputArray=np.array(outputArray).T\n",
    "print((outputArray).shape)\n",
    "Y_infered2 = librosa.istft(outputArray) \n",
    "\n",
    "plt.figure(figsize=(20,10))\n",
    "plt.subplot(1,2,1)\n",
    "librosa.display.specshow(librosa.amplitude_to_db(outputArray,\n",
    "                                                  ref=np.max),\n",
    "                          y_axis='log', x_axis='time')\n",
    "plt.title('Power spectrogram')\n",
    "plt.colorbar(format='%+2.0f dB')\n",
    "plt.tight_layout()\n",
    "\n",
    "plt.subplot(1,2,2)\n",
    "plt.imshow(midiTestArray.T,interpolation='nearest', aspect='auto')\n",
    "plt.title('Power spectrogram')\n",
    "plt.colorbar(format='%+2.0f dB')\n",
    "plt.tight_layout()\n",
    "\n",
    "plt.show();\n",
    "\n",
    "\n",
    "ipd.Audio(Y_infered2,rate=sr)"
   ]
  },
  {
   "cell_type": "code",
   "execution_count": null,
   "metadata": {
    "scrolled": true
   },
   "outputs": [],
   "source": [
    "librosa.display.waveplot(y[:500], sr=sr);"
   ]
  },
  {
   "cell_type": "code",
   "execution_count": null,
   "metadata": {},
   "outputs": [],
   "source": []
  },
  {
   "cell_type": "code",
   "execution_count": null,
   "metadata": {},
   "outputs": [],
   "source": []
  }
 ],
 "metadata": {
  "kernelspec": {
   "display_name": "Python 3",
   "language": "python",
   "name": "python3"
  },
  "language_info": {
   "codemirror_mode": {
    "name": "ipython",
    "version": 3
   },
   "file_extension": ".py",
   "mimetype": "text/x-python",
   "name": "python",
   "nbconvert_exporter": "python",
   "pygments_lexer": "ipython3",
   "version": "3.6.7"
  }
 },
 "nbformat": 4,
 "nbformat_minor": 2
}
